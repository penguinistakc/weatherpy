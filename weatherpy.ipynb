{
 "cells": [
  {
   "cell_type": "code",
   "execution_count": 27,
   "metadata": {},
   "outputs": [],
   "source": [
    "import openweathermapy\n",
    "from citipy import citipy\n",
    "import matplotlib.pyplot as plt\n",
    "import openweathermapy as owm\n",
    "import pandas as pd\n",
    "import random\n",
    "import numpy as np\n",
    "import requests\n",
    "from config import api_key"
   ]
  },
  {
   "cell_type": "code",
   "execution_count": 2,
   "metadata": {},
   "outputs": [],
   "source": [
    "# set min/max coords for randomized search of cities\n",
    "max_latitude = 90\n",
    "min_latitude = -90\n",
    "max_longitude = 180\n",
    "min_longitude = -180"
   ]
  },
  {
   "cell_type": "code",
   "execution_count": 3,
   "metadata": {},
   "outputs": [],
   "source": [
    "cities = []"
   ]
  },
  {
   "cell_type": "code",
   "execution_count": 10,
   "metadata": {},
   "outputs": [
    {
     "name": "stdout",
     "output_type": "stream",
     "text": [
      "finished!\n"
     ]
    }
   ],
   "source": [
    "for latitude in range(min_latitude, 1, 1):\n",
    "    for _ in range(1, 21):\n",
    "        lng = random.uniform(min_longitude, max_longitude)\n",
    "        lat = random.uniform(latitude, latitude + 1)\n",
    "        city = citipy.nearest_city(lat, lng)\n",
    "        city_data = f'{city.city_name},{city.country_code}'\n",
    "        cities.append(city_data)\n",
    "        \n",
    "            \n",
    "print(\"finished!\")"
   ]
  },
  {
   "cell_type": "code",
   "execution_count": 22,
   "metadata": {},
   "outputs": [],
   "source": [
    "new_cities = set(cities)\n",
    "list_cities = list(cities)\n",
    "#len(new_cities)\n",
    "#for data in new_cities:\n",
    "#    print(data)"
   ]
  },
  {
   "cell_type": "code",
   "execution_count": 23,
   "metadata": {},
   "outputs": [],
   "source": [
    "#let's talk to the openweather folks\n",
    "#the free api only allows 60 calls per minute. So we will submit only 50 at a time\n",
    "sample_size = 50\n",
    "samples = np.array_split(list_cities, 50)\n"
   ]
  },
  {
   "cell_type": "code",
   "execution_count": 25,
   "metadata": {},
   "outputs": [
    {
     "name": "stdout",
     "output_type": "stream",
     "text": [
      "['punta arenas,cl' 'bluff,nz' 'ushuaia,ar' 'mataura,pf' 'bluff,nz'\n",
      " 'port elizabeth,za' 'albany,au' 'ushuaia,ar' 'bluff,nz' 'ushuaia,ar'\n",
      " 'kaitangata,nz' 'taolanaro,mg' 'hobart,au' 'rikitea,pf' 'albany,au'\n",
      " 'busselton,au' 'port elizabeth,za' 'busselton,au' 'punta arenas,cl'\n",
      " 'ushuaia,ar' 'ushuaia,ar' 'mataura,pf' 'albany,au' 'punta arenas,cl'\n",
      " 'rikitea,pf' 'ushuaia,ar' 'new norfolk,au' 'albany,au' 'taolanaro,mg'\n",
      " 'port alfred,za' 'punta arenas,cl' 'ushuaia,ar' 'hermanus,za' 'hobart,au'\n",
      " 'mataura,pf' 'ushuaia,ar' 'punta arenas,cl' 'hobart,au' 'albany,au'\n",
      " 'vaini,to' 'busselton,au' 'albany,au' 'ushuaia,ar' 'ushuaia,ar'\n",
      " 'ushuaia,ar' 'ushuaia,ar' 'punta arenas,cl' 'bredasdorp,za' 'vaini,to'\n",
      " 'bredasdorp,za' 'vaini,to' 'punta arenas,cl' 'bredasdorp,za'\n",
      " 'busselton,au' 'taolanaro,mg' 'vaini,to' 'hermanus,za' 'new norfolk,au'\n",
      " 'ushuaia,ar' 'bluff,nz' 'ushuaia,ar' 'mataura,pf' 'bluff,nz'\n",
      " 'punta arenas,cl' 'ushuaia,ar' 'ushuaia,ar' 'ushuaia,ar' 'ushuaia,ar'\n",
      " 'albany,au' 'vaini,to' 'albany,au' 'rikitea,pf' 'bredasdorp,za'\n",
      " 'ushuaia,ar' 'port alfred,za' 'kaitangata,nz' 'busselton,au']\n"
     ]
    }
   ],
   "source": [
    "print(samples[0])"
   ]
  },
  {
   "cell_type": "code",
   "execution_count": 28,
   "metadata": {},
   "outputs": [],
   "source": [
    "# Save config information.\n",
    "url = \"http://api.openweathermap.org/data/2.5/weather?\"\n",
    "units = \"imperial\"\n",
    "\n",
    "# Build partial query URL\n",
    "query_url = f\"{url}appid={api_key}&units={units}&q=\""
   ]
  },
  {
   "cell_type": "code",
   "execution_count": 62,
   "metadata": {},
   "outputs": [],
   "source": [
    "# info we want:\n",
    "lat = []\n",
    "temp = []\n",
    "humidity = []\n",
    "wind = []\n",
    "clouds = []\n",
    "city_name = []\n",
    "city_country_code = []\n",
    "city_id = []\n",
    "date_time = []\n",
    "#target_city = 'kansas city,us'\n",
    "target_cities = ['kansas city,us', 'london,uk', 'ontario,ca', 'sao paulo,br', 'cape town,za']"
   ]
  },
  {
   "cell_type": "code",
   "execution_count": 63,
   "metadata": {},
   "outputs": [
    {
     "name": "stdout",
     "output_type": "stream",
     "text": [
      "*********************************\n",
      "* BEGINNING DATA RETRIEVAL..... *\n",
      "*********************************\n",
      "Processing Record 0 of Set 1 | kansas city,us\n",
      "Data found (status code: 200) | kansas city,us\n",
      "Data loaded successfully | kansas city,us\n",
      "*********************************\n",
      "Processing Record 1 of Set 1 | london,uk\n",
      "Data found (status code: 200) | london,uk\n",
      "Data loaded successfully | london,uk\n",
      "*********************************\n",
      "Processing Record 2 of Set 1 | ontario,ca\n",
      "Data found (status code: 200) | ontario,ca\n",
      "Data loaded successfully | ontario,ca\n",
      "*********************************\n",
      "Processing Record 3 of Set 1 | sao paulo,br\n",
      "Data found (status code: 200) | sao paulo,br\n",
      "Data loaded successfully | sao paulo,br\n",
      "*********************************\n",
      "Processing Record 4 of Set 1 | cape town,za\n",
      "Data found (status code: 200) | cape town,za\n",
      "Data loaded successfully | cape town,za\n",
      "*********************************\n"
     ]
    }
   ],
   "source": [
    "divider = f'*********************************'\n",
    "print(divider)\n",
    "print('* BEGINNING DATA RETRIEVAL..... *')\n",
    "print(divider)\n",
    "\n",
    "for idx, target_city in enumerate(target_cities):\n",
    "    print(f'Processing Record {idx} of Set 1 | {target_city}')\n",
    "    response = requests.get(query_url + target_city)\n",
    "    #print(response.status_code)\n",
    "    response_data = response.json()\n",
    "\n",
    "    #this is not a particularly pythonic way to build an exception, but in this program, we want all the data\n",
    "    #or none of it. So if we get a 200 but there is a problem with one of the fields in the API, we do not want\n",
    "    #it getting in the table. Dump the json() and troubleshoot. If we get anything but a 200, let us know about it.\n",
    "    #It is mostly likely a 404 message, telling us it can't find the city. We will not load any data for a city we\n",
    "    #can't find.\n",
    "    if response.status_code == 200:\n",
    "        print(f'Data found (status code: {response.status_code}) | {target_city}')\n",
    "        try:\n",
    "            lat.append(response_data['coord']['lat'])\n",
    "            temp.append(response_data['main']['temp_max'])\n",
    "            humidity.append(response_data['main']['humidity'])\n",
    "            wind.append(response_data['wind']['speed'])\n",
    "            clouds.append(response_data['clouds']['all'])\n",
    "            city_name.append(response_data['name'])\n",
    "            city_id.append(response_data['id'])\n",
    "            city_country_code.append(response_data['sys']['country'])\n",
    "            date_time.append(response_data['dt'])\n",
    "            print(f'Data loaded successfully | {target_city}')\n",
    "            print(divider)\n",
    "        except KeyError:\n",
    "            print(f'We got a good response (status code: {response.status_code}), but did not receive good info. \\\n",
    "            | {target_city }')\n",
    "            print(f'API Response: ')\n",
    "            print(json.dumps(response_data))\n",
    "    else:\n",
    "        try:\n",
    "            print(f\"ERROR: Data retrieval unsuccessful for {target_city}. Code: {response_data['cod']} \\\n",
    "                  MSG: {response_data['message']}\")\n",
    "        except KeyError:\n",
    "            print(f'SEVERE ERROR: Data retrieval unsuccessful for {target_city}. Code: {response.status_code}')\n",
    "              \n",
    "\n",
    "\n",
    "    "
   ]
  },
  {
   "cell_type": "code",
   "execution_count": 64,
   "metadata": {},
   "outputs": [
    {
     "name": "stdout",
     "output_type": "stream",
     "text": [
      "[39.08, 51.51, 49.25, -23.55, -33.93]\n",
      "[33.8, 51.8, 25.29, 66.2, 62.6]\n",
      "[59, 76, 52, 82, 77]\n",
      "[10.29, 10.29, 13.02, 6.93, 8.05]\n",
      "[90, 75, 68, 75, 0]\n",
      "['Kansas City', 'London', 'Ontario', 'Sao Paulo', 'Cape Town']\n",
      "['US', 'GB', 'CA', 'BR', 'ZA']\n",
      "[4393217, 2643743, 6093943, 3448439, 3369157]\n",
      "[1523836440, 1523838000, 1523840736, 1523836800, 1523836800]\n"
     ]
    }
   ],
   "source": [
    "print(lat)\n",
    "print(temp)\n",
    "print(humidity)\n",
    "print(wind)\n",
    "print(clouds)\n",
    "print(city_name)\n",
    "print(city_country_code)\n",
    "print(city_id)\n",
    "print(date_time)"
   ]
  },
  {
   "cell_type": "code",
   "execution_count": null,
   "metadata": {},
   "outputs": [],
   "source": []
  }
 ],
 "metadata": {
  "kernelspec": {
   "display_name": "Python [conda env:PythonData]",
   "language": "python",
   "name": "conda-env-PythonData-py"
  },
  "language_info": {
   "codemirror_mode": {
    "name": "ipython",
    "version": 3
   },
   "file_extension": ".py",
   "mimetype": "text/x-python",
   "name": "python",
   "nbconvert_exporter": "python",
   "pygments_lexer": "ipython3",
   "version": "3.6.4"
  }
 },
 "nbformat": 4,
 "nbformat_minor": 1
}
